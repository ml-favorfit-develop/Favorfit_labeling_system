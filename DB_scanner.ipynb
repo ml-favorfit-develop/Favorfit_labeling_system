{
 "cells": [
  {
   "cell_type": "code",
   "execution_count": 2,
   "metadata": {},
   "outputs": [],
   "source": [
    "from pymongo import MongoClient\n",
    "\n",
    "from PIL import Image\n",
    "import cv2\n",
    "import numpy as np\n",
    "import warnings\n",
    "import os\n",
    "\n",
    "warnings.simplefilter(\"ignore\", Image.DecompressionBombWarning)\n",
    "\n",
    "from pymongo import MongoClient\n",
    "\n",
    "# DB 환경 설정을 입력하세요\n",
    "client = MongoClient(\"\")\n",
    "db = client['']\n",
    "collection = db['']"
   ]
  },
  {
   "cell_type": "code",
   "execution_count": 3,
   "metadata": {},
   "outputs": [],
   "source": [
    "def read_image(path):\n",
    "    img = Image.open(path)\n",
    "    img = img.convert('RGB')\n",
    "    return np.array(img, dtype=np.uint8)"
   ]
  },
  {
   "cell_type": "code",
   "execution_count": 4,
   "metadata": {},
   "outputs": [],
   "source": [
    "def get_window_size(img):\n",
    "    height, width, _ = img.shape\n",
    "\n",
    "    # 적절한 윈도우 크기 계산\n",
    "    max_width = 1280\n",
    "    max_height = 1020\n",
    "    scale = min(max_width / width, max_height / height)\n",
    "    window_width = int(width * scale)\n",
    "    window_height = int(height * scale)\n",
    "\n",
    "    return window_height, window_width"
   ]
  },
  {
   "cell_type": "code",
   "execution_count": 5,
   "metadata": {},
   "outputs": [],
   "source": [
    "def make_path(document):\n",
    "    path = os.path.join(\"/\",\n",
    "                    document[\"start_path\"],\n",
    "                    document[\"HDD_name\"],\n",
    "                    document[\"middle_path\"],\n",
    "                    document[\"tag\"][0],\n",
    "                    document[\"file_name\"])\n",
    "    return path"
   ]
  },
  {
   "cell_type": "code",
   "execution_count": 10,
   "metadata": {},
   "outputs": [],
   "source": [
    "# cursor = collection.find({\"label_model\":{\"$eq\":\"product\"}})\n",
    "cursor = collection.find({\"label_model\":{\"$eq\":\"non_product\"}})"
   ]
  },
  {
   "cell_type": "code",
   "execution_count": 11,
   "metadata": {},
   "outputs": [],
   "source": [
    "cv2.namedWindow('image', cv2.WINDOW_NORMAL)\n",
    "\n",
    "doc = cursor.next()\n",
    "while doc:\n",
    "    img_path = make_path(doc)\n",
    "    img_np = read_image(img_path)\n",
    "    img_cv = cv2.cvtColor(img_np, cv2.COLOR_RGB2BGR)\n",
    "\n",
    "    height, width = get_window_size(img_cv)\n",
    "\n",
    "    cv2.resizeWindow('image', width, height)\n",
    "    cv2.imshow('image', img_cv)\n",
    "\n",
    "    k = cv2.waitKey(0)\n",
    "\n",
    "    if k == ord('d'):\n",
    "        doc = cursor.next()\n",
    "    elif k == ord('p'):\n",
    "        break\n",
    "    else:\n",
    "        pass\n",
    "\n",
    "cv2.destroyAllWindows()"
   ]
  },
  {
   "cell_type": "code",
   "execution_count": null,
   "metadata": {},
   "outputs": [],
   "source": []
  }
 ],
 "metadata": {
  "kernelspec": {
   "display_name": "kjg_ver39",
   "language": "python",
   "name": "python3"
  },
  "language_info": {
   "codemirror_mode": {
    "name": "ipython",
    "version": 3
   },
   "file_extension": ".py",
   "mimetype": "text/x-python",
   "name": "python",
   "nbconvert_exporter": "python",
   "pygments_lexer": "ipython3",
   "version": "3.9.16"
  },
  "orig_nbformat": 4
 },
 "nbformat": 4,
 "nbformat_minor": 2
}
