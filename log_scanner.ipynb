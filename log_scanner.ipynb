{
 "cells": [
  {
   "cell_type": "code",
   "execution_count": 1,
   "metadata": {},
   "outputs": [],
   "source": [
    "from PIL import Image\n",
    "import numpy as np\n",
    "import cv2\n",
    "import warnings\n",
    "\n",
    "warnings.simplefilter(\"ignore\", Image.DecompressionBombWarning)"
   ]
  },
  {
   "cell_type": "code",
   "execution_count": 2,
   "metadata": {},
   "outputs": [],
   "source": [
    "def read_image(path):\n",
    "    img = Image.open(path)\n",
    "    img = img.convert('RGB')\n",
    "    return np.array(img, dtype=np.uint8)"
   ]
  },
  {
   "cell_type": "code",
   "execution_count": 3,
   "metadata": {},
   "outputs": [],
   "source": [
    "def get_window_size(img):\n",
    "    height, width, _ = img.shape\n",
    "\n",
    "    # 적절한 윈도우 크기 계산\n",
    "    max_width = 1280\n",
    "    max_height = 1020\n",
    "    scale = min(max_width / width, max_height / height)\n",
    "    window_width = int(width * scale)\n",
    "    window_height = int(height * scale)\n",
    "\n",
    "    return window_height, window_width"
   ]
  },
  {
   "cell_type": "code",
   "execution_count": 4,
   "metadata": {},
   "outputs": [],
   "source": [
    "def get_data_from_txt(txt_path):\n",
    "    with open(txt_path, mode=\"r\", encoding=\"utf-8\") as file:\n",
    "        txt_data = file.readlines()\n",
    "    return [cur[:-1].replace(\" \",\"\").split(\",\") for cur in txt_data]"
   ]
  },
  {
   "cell_type": "code",
   "execution_count": 6,
   "metadata": {},
   "outputs": [],
   "source": [
    "import numpy as np\n",
    "\n",
    "label_count = np.bincount([cur[0] for cur in get_data_from_txt(\"./log.txt\")])"
   ]
  },
  {
   "cell_type": "code",
   "execution_count": 7,
   "metadata": {},
   "outputs": [
    {
     "data": {
      "text/plain": [
       "0.4112646121147715"
      ]
     },
     "execution_count": 7,
     "metadata": {},
     "output_type": "execute_result"
    }
   ],
   "source": [
    "label_count[1] / label_count[0]"
   ]
  },
  {
   "cell_type": "code",
   "execution_count": 8,
   "metadata": {},
   "outputs": [
    {
     "name": "stdout",
     "output_type": "stream",
     "text": [
      "idx: 246, label: 0\r"
     ]
    }
   ],
   "source": [
    "index = 0\n",
    "\n",
    "cv2.namedWindow('image', cv2.WINDOW_NORMAL)\n",
    "\n",
    "datas = get_data_from_txt(\"./log.txt\")\n",
    "while index < len(datas):\n",
    "    data = datas[index]\n",
    "\n",
    "    img_path = data[1]\n",
    "    img = read_image(img_path)\n",
    "    img = cv2.cvtColor(img, cv2.COLOR_RGB2BGR)\n",
    "\n",
    "    height, width = get_window_size(img)\n",
    "\n",
    "    cv2.resizeWindow('image', width, height)\n",
    "\n",
    "    cv2.imshow('image', img)\n",
    "    print(f\"idx: {index}, label: {data[0]}\", end='\\r')\n",
    "    \n",
    "    k = cv2.waitKey(0)\n",
    "    \n",
    "    if k == ord('d'):\n",
    "        index += 1\n",
    "    elif k == ord('z'):\n",
    "        index -= 1\n",
    "    elif k == ord('p'):\n",
    "        break\n",
    "    else:\n",
    "        continue\n",
    "\n",
    "cv2.destroyAllWindows()"
   ]
  },
  {
   "cell_type": "code",
   "execution_count": null,
   "metadata": {},
   "outputs": [],
   "source": []
  }
 ],
 "metadata": {
  "kernelspec": {
   "display_name": "kjg_ver39",
   "language": "python",
   "name": "python3"
  },
  "language_info": {
   "codemirror_mode": {
    "name": "ipython",
    "version": 3
   },
   "file_extension": ".py",
   "mimetype": "text/x-python",
   "name": "python",
   "nbconvert_exporter": "python",
   "pygments_lexer": "ipython3",
   "version": "3.9.16"
  },
  "orig_nbformat": 4
 },
 "nbformat": 4,
 "nbformat_minor": 2
}
